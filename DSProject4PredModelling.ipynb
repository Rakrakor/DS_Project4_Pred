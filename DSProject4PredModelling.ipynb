{
  "nbformat": 4,
  "nbformat_minor": 0,
  "metadata": {
    "colab": {
      "provenance": []
    },
    "kernelspec": {
      "name": "python3",
      "display_name": "Python 3"
    },
    "language_info": {
      "name": "python"
    }
  },
  "cells": [
    {
      "cell_type": "markdown",
      "source": [
        "# PREDICTIVE MODELLING PROJECT\n",
        "- RONNIE CHAN\n",
        "- ANTONIO\n",
        "- SAMUEL"
      ],
      "metadata": {
        "id": "oeh-HSTS_gG3"
      }
    },
    {
      "cell_type": "markdown",
      "source": [
        "PROJECT REQUIREMENTS:\n",
        "\n",
        "- Use Kaggle BIRDS 510 SPECIES: https://www.kaggle.com/datasets/gpiosenka/100-bird-species\n",
        "- Make sure that your Training, Testing AND Validation sets contain the same classes of species\n",
        "- Your validation set is to be used at the very end -- to get a good sense of how your model is performing\n",
        "- You are expected to compile a CNN in order to correctly classify your selected 15 classes\n",
        "- Google Colab is your friend - it can help boost your model's training time\n",
        "- It can be beneficial to reshape some of the images to reduce some of the data, this will help speed up your model's training time\n",
        "- Do some research to find out ways to help boost your model's performance (ie data augmentation)\n",
        "- Make sure to save your model and during the presentation you will load your model and evaluate its performance on the validation set\n"
      ],
      "metadata": {
        "id": "emtMJ3RD__YI"
      }
    },
    {
      "cell_type": "code",
      "execution_count": null,
      "metadata": {
        "id": "I-5wC7W325iv"
      },
      "outputs": [],
      "source": [
        "# Imports\n",
        "import matplotlib.pyplot as plt\n",
        "import seaborn as sns\n",
        "from sklearn.metrics import accuracy_score, confusion_matrix\n",
        "from sklearn.model_selection import  train_test_split\n",
        "from sklearn.neural_network import MLPClassifier  # Mulitple Layer of hidden Layers Perceptron\n",
        "from sklearn.datasets import fetch_openml\n",
        "sns.set()\n",
        "\n",
        "import numpy as np\n",
        "import tensorflow as tf\n",
        "from tensorflow import keras\n",
        "from tensorflow.keras import layers\n",
        "from tensorflow.keras import initializers"
      ]
    },
    {
      "cell_type": "code",
      "source": [],
      "metadata": {
        "id": "xKDeZnT63Lby"
      },
      "execution_count": null,
      "outputs": []
    }
  ]
}